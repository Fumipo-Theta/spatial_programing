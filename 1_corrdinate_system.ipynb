{
 "cells": [
  {
   "cell_type": "markdown",
   "metadata": {},
   "source": [
    "# 空間を扱うプログラミング\n",
    "\n",
    "## §1 座標系 (coordinate system)\n",
    "\n",
    "* 3Dグラフィックスでは大きく4つの座標系が存在する\n",
    "  1. ワールド座標系\n",
    "    * 3D空間全体に対しただ一つ存在する絶対座標を表す座標系\n",
    "  2. オブジェクトのローカル座標系\n",
    "     * ワールド上の個々のオブジェクトに対し定義される相対座標を表す座標系\n",
    "  3. カメラ座標系\n",
    "     * \n",
    "  4. 画像座標系\n",
    "* このテキストブックでは、下図のような座標軸とカメラオブジェクトを含むワールドを使用する\n",
    "  <img alt=\"Initial world setting\" src=\"./notebook_assets/images/1_initial_world.png\" style=\"width:600px;\"/>"
   ]
  },
  {
   "cell_type": "code",
   "execution_count": 2,
   "metadata": {},
   "outputs": [],
   "source": [
    "# 必要なライブラリをインポート\n",
    "from __future__ import annotations\n",
    "\n",
    "from pathlib import Path\n",
    "\n",
    "import numpy as np\n",
    "import open3d as o3d\n",
    "from scipy.spatial.transform import Rotation\n",
    "\n",
    "from util_lib.transformable_object import TransformableObject\n",
    "from util_lib.types import Axis, EulerOrder\n",
    "from util_lib.visualization import draw_geometries\n",
    "from util_lib.world import create_coordinate_objects\n"
   ]
  },
  {
   "cell_type": "code",
   "execution_count": 3,
   "metadata": {},
   "outputs": [
    {
     "name": "stdout",
     "output_type": "stream",
     "text": [
      "\u001b[1;33m[Open3D WARNING] GLFW Error: Cocoa: Failed to find service port for display\u001b[0;m\n",
      "\u001b[1;33m[Open3D WARNING] GLFW Error: Cocoa: Failed to find service port for display\u001b[0;m\n",
      "\u001b[1;33m[Open3D WARNING] GLFW Error: Cocoa: Failed to find service port for display\u001b[0;m\n"
     ]
    }
   ],
   "source": [
    "\n",
    "# ワールド・カメラ座標系の作成\n",
    "world_coordinate = create_coordinate_objects()\n",
    "original_camera = TransformableObject.load_model(\"./data/camera.gltf\", enable_post_processing=True)\n",
    "\n",
    "# ワールド座標系とカメラの初期位置を可視化\n",
    "draw_geometries(world_coordinate, original_camera)"
   ]
  },
  {
   "cell_type": "markdown",
   "metadata": {},
   "source": [
    "オブジェクトの回転・並進の例\n",
    "\n",
    "* ワールドの +y 方向にあるカメラが回転・並進変換後のオブジェクト\n",
    "  1. ワールド X 軸周りに90度回転\n",
    "  2. ワールド Y 軸方向に+1並進\n",
    "\n",
    "<img alt=\"Example of object transformation\" src=\"./notebook_assets/images/1_example_transformation.png\" style=\"width:600px;\"/>"
   ]
  },
  {
   "cell_type": "code",
   "execution_count": 4,
   "metadata": {},
   "outputs": [
    {
     "name": "stdout",
     "output_type": "stream",
     "text": [
      "\u001b[1;33m[Open3D WARNING] GLFW Error: Cocoa: Failed to find service port for display\u001b[0;m\n",
      "\u001b[1;33m[Open3D WARNING] GLFW Error: Cocoa: Failed to find service port for display\u001b[0;m\n",
      "\u001b[1;33m[Open3D WARNING] GLFW Error: Cocoa: Failed to find service port for display\u001b[0;m\n"
     ]
    }
   ],
   "source": [
    "camera = original_camera.copy()\n",
    "camera.translate(y=1)\n",
    "camera.rotate_euler(EulerOrder.xyz, x=90)\n",
    "draw_geometries(world_coordinate, original_camera, camera)"
   ]
  },
  {
   "cell_type": "code",
   "execution_count": 4,
   "metadata": {},
   "outputs": [],
   "source": []
  },
  {
   "cell_type": "code",
   "execution_count": 5,
   "metadata": {},
   "outputs": [
    {
     "data": {
      "text/plain": [
       "array([[1., 0., 0.],\n",
       "       [0., 1., 0.],\n",
       "       [0., 0., 1.]])"
      ]
     },
     "execution_count": 5,
     "metadata": {},
     "output_type": "execute_result"
    }
   ],
   "source": [
    "Rotation.from_euler(EulerOrder.XYZ, [0, 0, 0], degrees=True).as_matrix()"
   ]
  },
  {
   "cell_type": "code",
   "execution_count": null,
   "metadata": {},
   "outputs": [],
   "source": []
  }
 ],
 "metadata": {
  "kernelspec": {
   "display_name": ".venv",
   "language": "python",
   "name": "python3"
  },
  "language_info": {
   "codemirror_mode": {
    "name": "ipython",
    "version": 3
   },
   "file_extension": ".py",
   "mimetype": "text/x-python",
   "name": "python",
   "nbconvert_exporter": "python",
   "pygments_lexer": "ipython3",
   "version": "3.11.8"
  }
 },
 "nbformat": 4,
 "nbformat_minor": 2
}
